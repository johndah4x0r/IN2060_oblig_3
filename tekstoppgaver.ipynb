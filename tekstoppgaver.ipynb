{
 "cells": [
  {
   "cell_type": "markdown",
   "id": "605cfc40-b128-4c57-9454-fd0716002c94",
   "metadata": {
    "editable": true,
    "slideshow": {
     "slide_type": ""
    },
    "tags": [
     "hide-cell"
    ]
   },
   "source": [
    "# Prolog"
   ]
  },
  {
   "cell_type": "code",
   "execution_count": 16,
   "id": "0ecdc1d3-abc9-4aad-9a98-63a1f899090b",
   "metadata": {
    "editable": true,
    "slideshow": {
     "slide_type": ""
    },
    "tags": [
     "hide-cell"
    ]
   },
   "outputs": [
    {
     "name": "stderr",
     "output_type": "stream",
     "text": [
      "  > Current directory: /home/johnc/Projects/IN2060_oblig_3\n",
      "  > Target notebook: tekstoppgaver.ipynb\n",
      "  > Output file: tekstoppgaver.pdf\n",
      "  > Figures directory: /home/johnc/Projects/IN2060_oblig_3/tmpfigs\n"
     ]
    }
   ],
   "source": [
    "import os\n",
    "import sys\n",
    "import shutil\n",
    "from IPython.display import display, Markdown, Latex\n",
    "\n",
    "# Set the notebook name\n",
    "docname = \"tekstoppgaver\"\n",
    "nbname = f\"{docname}.ipynb\"\n",
    "pdfname = f\"{docname}.pdf\"\n",
    "\n",
    "cwd = os.path.realpath(\".\")\n",
    "assert len(cwd) > 0 and cwd != \"/\"\n",
    "\n",
    "# Initialize temporary figures directory\n",
    "figsdir = \"tmpfigs\"\n",
    "figsdir_full = f\"{cwd}/{figsdir}\"\n",
    "\n",
    "if os.path.exists(figsdir):\n",
    "    shutil.rmtree(figsdir)\n",
    "\n",
    "os.mkdir(figsdir)\n",
    "\n",
    "print(f\"  > Current directory: {cwd}\", file=sys.stderr)\n",
    "print(f\"  > Target notebook: {nbname}\", file=sys.stderr)\n",
    "print(f\"  > Output file: {pdfname}\", file=sys.stderr)\n",
    "print(f\"  > Figures directory: {figsdir_full}\", file=sys.stderr)\n",
    "\n",
    "# Clear the page\n",
    "def clearpage() -> None:\n",
    "    display(Latex(r\"\\clearpage\"))"
   ]
  },
  {
   "cell_type": "markdown",
   "id": "d9db6701-2648-4263-b149-f8c1c4364363",
   "metadata": {
    "editable": true,
    "slideshow": {
     "slide_type": ""
    },
    "tags": []
   },
   "source": [
    "# Del 2\n",
    "\n",
    "1. I henhold til AAPCS32, så skal følgende heltallsregistere bevares av funksjonen:\n",
    "\n",
    "   - `r4-r11` / `v1-v8` (delte verdier, osv.)\n",
    "   - `r13` / `sp`\n",
    "   \n",
    "   Kalleren skal så bevare følgende heltallsregistere:\n",
    "\n",
    "   - `r0-r3` / `a1-a4` (argumenter, returverdi)\n",
    "   - `r12` / `ip`\n",
    "   - `r14` / `lr`\n",
    "   \n",
    "   Hvis prosessoren støtter flyttallsregning, så skal\n",
    "\n",
    "    - `s0-s15` / `d0-d7`/ `q0-q3` bevares av kalleren\n",
    "    - `s16-s31` / `d8-d15` / `q4-q7` bevares av funksjonen\n",
    "\n",
    "2. Funksjonen `fib` *skal* ta indekstallet i `r0` og bruke den til å regne ut resultatet. Dette *skal* returneres i `r0`. Argumentet er altså \"brukt opp\", og vi får resultatet i registeren som *for en stund siden* var argumentet.\n",
    "\n",
    "3. For at dette programmet skal avslutte riktig, så måtte `main` lagre `lr` på starten, da den utfører en kall til `printf` -- altså at den ikke er en *bladfunksjon*. Et slik kall til en ekstern funksjon vil ellers \"bruke opp\" `lr`, sånn at programmet *ikke* klarer å gi tilbake kontrollen til operativsystemet."
   ]
  },
  {
   "cell_type": "code",
   "execution_count": 17,
   "id": "2e8f2a0d-c734-4bfc-89fa-2e559810f6f0",
   "metadata": {
    "editable": true,
    "slideshow": {
     "slide_type": ""
    },
    "tags": [
     "hide-input"
    ]
   },
   "outputs": [
    {
     "data": {
      "text/latex": [
       "\\clearpage"
      ],
      "text/plain": [
       "<IPython.core.display.Latex object>"
      ]
     },
     "metadata": {},
     "output_type": "display_data"
    }
   ],
   "source": [
    "clearpage()"
   ]
  },
  {
   "cell_type": "markdown",
   "id": "6cafa90d-ec80-44d2-ae64-1ac5c8d730d1",
   "metadata": {
    "editable": true,
    "jp-MarkdownHeadingCollapsed": true,
    "slideshow": {
     "slide_type": ""
    },
    "tags": []
   },
   "source": [
    "# Del 3\n",
    "\n",
    "1. Den største forskjellen, er antallet *direktiver* som brukes. I den håndskrevne versjonen, så er antall direktiver minimal: det erklæres en tekst-seksjon (kjørbar kode) og funksjonen `main` utpekes som *inngangspunkt* (\"entry point\"). I den genererte versjonen, så er instruksene og direktivene annerledes: rekkefølgen på trinnene er rokket om for størrelse og effektivitet, metadata lagres i direktivene, osv.\n",
    "2. Det er ikke noe vesentlig forskjell mellom `-Os`, `-O2` og `-O3`, da selveste logikken er verken minne-intensiv eller gren-intensiv (\"branch-heavy\"). Forskjellene ligger hovedsakelig i direktivene, da størrelsen til programmet kan endre seg noe mellom variantene.\n",
    "3. Diskusjonen dreier seg hovedsakelig om skillen mellom *reglement* (\"policy\") og *mekanisme* (\"mechanism\").\n",
    "\n",
    "   - Det største argumentet *for* å bruke en kompilator framfor en assembler, er *portabilitet*: et kompilert språk formidler hovedsakelig *reglement*, mens assemblerspråk formidler hovedsakelig *mekanisme*: assemblerspråk er altså maskinspråk med forståelige navnelapper (\"mnemonics\").\n",
    "   - På den andre siden, finnes det visse rutiner som *på lovlig vis* ikke kan implementeres i kompilerte språk (I/O, oppstartsrutiner, osv.) I slike tilfeller, er mekanisme den eneste fornuftige fortolkningen -- noe assembler er egnet for."
   ]
  },
  {
   "cell_type": "markdown",
   "id": "83c6a4b7-eb17-4cd5-a07b-6ee410811fd8",
   "metadata": {
    "editable": true,
    "slideshow": {
     "slide_type": ""
    },
    "tags": []
   },
   "source": [
    "# Del 4\n",
    "## Bakgrunn\n",
    "Flyttall som følger standarden **IEEE 754** *skal* kunne representeres på formen\n",
    "$$\n",
    "    x = (-1)^{s}\\cdot\\left(1 + \\frac{f}{2^M}\\right)\\cdot 2^{e - b}\n",
    "$$\n",
    "der $s$ er fortegnsbit-en, $f$ er *bitfeltet* med lengde $M$ som inneholder brøkdelen, $e$ er bitfeltet som inneholder eksponenten *med forskyvning* (\"biased exponent\") og *b* er forskyvningen. Dette kan formuleres på en lignende måte:\n",
    "$$\n",
    "    x = (-1)^{s} \\cdot (1.f)_2 \\cdot 2^{e-b}\n",
    "$$\n",
    "Addisjon kan så representeres slik:\n",
    "$$\n",
    "    (1.a)_2 \\cdot 2^{n} + (1.b)_2 \\cdot 2^{m} = \\left[(cd.e)_2 \\cdot 2^{-c} \\right] \\cdot 2^{n + c}\n",
    "$$\n",
    "der $n,m: n \\geq m$ er eksponentene, $a$, $b$ og $e$ er bitfelter med lengde $M$, og $c,d \\in \\{0, 1\\}$.\n",
    "\n",
    "Bitfeltet for $x$ er så gitt ved\n",
    "$$\n",
    "    X_{31:0} = s \\cdot 2^{N-1} + e \\cdot 2^{M} + f \\equiv \\mathtt{(s \\ll (N-1))\\, |\\, (e \\ll M)\\, |\\, f} \n",
    "$$\n",
    "For 32-bits flyttall, så er $M = 23$ og $b = 127$.\n"
   ]
  },
  {
   "cell_type": "code",
   "execution_count": 19,
   "id": "17a07048-019e-4e38-933c-808f8da4c782",
   "metadata": {
    "editable": true,
    "slideshow": {
     "slide_type": ""
    },
    "tags": [
     "hide-input"
    ]
   },
   "outputs": [
    {
     "data": {
      "text/latex": [
       "\\clearpage"
      ],
      "text/plain": [
       "<IPython.core.display.Latex object>"
      ]
     },
     "metadata": {},
     "output_type": "display_data"
    }
   ],
   "source": [
    "clearpage()"
   ]
  },
  {
   "cell_type": "markdown",
   "id": "c2c92bb6-c8d1-4b85-a6a7-0fe1c6f1fc5e",
   "metadata": {
    "editable": true,
    "slideshow": {
     "slide_type": ""
    },
    "tags": []
   },
   "source": [
    "## Besvarelse\n",
    "\n",
    "1. Vi har $2.0_{10} = (1.000\\dots)_2 \\cdot 2^{1} \\equiv (1.000\\dots)_2 \\cdot 2^{128 - 127}$, sånn at $f = 0 \\equiv \\mathtt{0x00}$ og $e = 128 \\equiv \\mathtt{0x80}$. Bitfeltet for $2.0_{10}$ er så $$X_{31:0} = \\mathtt{(0x80 \\ll 23) \\, |\\, 0x00} = \\mathtt{0x40000000}$$\n",
    "2. Vi har $3.0_{10} = (1.100\\dots)_2 \\cdot 2^{1} \\equiv (1.100\\dots)_2 \\cdot 2^{128 - 127}$, sånn at $f = \\mathtt{1 \\ll 22} \\equiv \\mathtt{0x400000}$ og $e = 128 \\equiv \\mathtt{0x80}$. Bitfeltet for $3.0_{10}$ er så $$X_{31:0} = \\mathtt{(0x80 \\ll 23)\\, |\\, 0x400000} = \\mathtt{0x40400000}$$\n",
    "3. Vi må først normalisere tallet: $0.50390625_{10} = 1.0078125_{10} \\cdot 2^{-1} \\equiv (1.0000001000\\dots)_{2} \\cdot 2^{-1}$. Vi har så $f = \\mathtt{0x10000}$ og $e = 126 \\equiv \\mathtt{0x7E}$, sånn at $$X_{31:0} = \\mathtt{(0x7E \\ll 23)\\, |\\, 0x10000} = \\mathtt{0x3f010000}$$\n",
    "4. Vi har \\begin{align*}\n",
    "    2.0_{10} + 0.50390625_{10} &= (1.000\\dots)_{2} \\cdot 2^{1} + (1.0000001000\\dots)_{2} \\cdot 2^{-1} \\\\\n",
    "    &= (1.000\\dots)_{2} \\cdot 2^{1} + (0.010000001000\\dots)_{2} \\cdot 2^{1} \\\\\n",
    "    &= (1.010000001000\\dots)_{2} \\cdot 2^{0}\n",
    "    \\end{align*}\n",
    "   sånn at $e = 128 = \\mathtt{0x80}$ og $f = \\mathtt{(1 \\ll 21)\\, |\\, (1 \\ll 14)} = \\mathtt{0x204000}$. Bitfeltet til denne summen er så\n",
    "   $$\n",
    "       X_{31:0} = \\mathtt{(0x80 \\ll 23)\\, |\\, 0x204000} = \\mathtt{0x40204000}\n",
    "   $$"
   ]
  },
  {
   "cell_type": "markdown",
   "id": "4ce9475a-292c-4b9d-8b07-7dce75fcb679",
   "metadata": {
    "editable": true,
    "slideshow": {
     "slide_type": ""
    },
    "tags": [
     "hide-cell"
    ]
   },
   "source": [
    "# Epilog"
   ]
  },
  {
   "cell_type": "code",
   "execution_count": 21,
   "id": "b51f87ae-d1db-4edb-8df3-7544204d5bbb",
   "metadata": {
    "editable": true,
    "hidden": true,
    "slideshow": {
     "slide_type": ""
    },
    "tags": [
     "hide-cell"
    ]
   },
   "outputs": [
    {
     "name": "stderr",
     "output_type": "stream",
     "text": [
      " I: Exporting notebook as PDF... (output file: tekstoppgaver.pdf)\n",
      " I: Current path: /home/johnc/Projects/IN2060_oblig_3\n",
      "[NbConvertApp] Converting notebook tekstoppgaver.ipynb to pdf\n",
      "[NbConvertApp] Writing 26145 bytes to notebook.tex\n",
      "[NbConvertApp] Building PDF\n",
      "[NbConvertApp] Running xelatex 3 times: ['xelatex', 'notebook.tex', '-quiet']\n",
      "[NbConvertApp] Running bibtex 1 time: ['bibtex', 'notebook']\n",
      "[NbConvertApp] WARNING | bibtex had problems, most likely because there were no citations\n",
      "[NbConvertApp] PDF successfully created\n",
      "[NbConvertApp] Writing 41139 bytes to tekstoppgaver.pdf\n"
     ]
    }
   ],
   "source": [
    "# The question is: can a cell hide itself\n",
    "print(f\" I: Exporting notebook as PDF... (output file: {pdfname})\", file=sys.stderr)\n",
    "print(f\" I: Current path: {os.path.realpath('.')}\", file=sys.stderr)\n",
    "_ = os.system(f'\\\n",
    "jupyter nbconvert \\\n",
    "--to pdf \\\n",
    "--TagRemovePreprocessor.remove_cell_tags=\"hide-cell\" \\\n",
    "--TagRemovePreprocessor.remove_input_tags=\"hide-input\" \\\n",
    "{nbname}')\n",
    "\n",
    "# --- Nothing that is hidden, can be shown beyond this point --- #"
   ]
  }
 ],
 "metadata": {
  "authors": [
   {
    "name": "John Isaac Calderon"
   }
  ],
  "kernelspec": {
   "display_name": "Python 3 (ipykernel)",
   "language": "python",
   "name": "python3"
  },
  "language_info": {
   "codemirror_mode": {
    "name": "ipython",
    "version": 3
   },
   "file_extension": ".py",
   "mimetype": "text/x-python",
   "name": "python",
   "nbconvert_exporter": "python",
   "pygments_lexer": "ipython3",
   "version": "3.12.3"
  },
  "title": "IN2060 -- Obligatorisk oppgave 3; tekstoppgaver"
 },
 "nbformat": 4,
 "nbformat_minor": 5
}
