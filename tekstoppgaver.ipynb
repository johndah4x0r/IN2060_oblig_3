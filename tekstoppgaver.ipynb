{
 "cells": [
  {
   "cell_type": "markdown",
   "id": "d9db6701-2648-4263-b149-f8c1c4364363",
   "metadata": {},
   "source": [
    "# Del 2"
   ]
  },
  {
   "cell_type": "markdown",
   "id": "6cafa90d-ec80-44d2-ae64-1ac5c8d730d1",
   "metadata": {},
   "source": [
    "# Del 3"
   ]
  },
  {
   "cell_type": "markdown",
   "id": "83c6a4b7-eb17-4cd5-a07b-6ee410811fd8",
   "metadata": {},
   "source": [
    "# Del 4"
   ]
  }
 ],
 "metadata": {
  "authors": [
   {
    "name": "John Isaac Calderon"
   }
  ],
  "kernelspec": {
   "display_name": "Python 3 (ipykernel)",
   "language": "python",
   "name": "python3"
  },
  "language_info": {
   "codemirror_mode": {
    "name": "ipython",
    "version": 3
   },
   "file_extension": ".py",
   "mimetype": "text/x-python",
   "name": "python",
   "nbconvert_exporter": "python",
   "pygments_lexer": "ipython3",
   "version": "3.12.3"
  },
  "title": "IN2060 -- Obligatorisk oppgave 3; tekstoppgaver"
 },
 "nbformat": 4,
 "nbformat_minor": 5
}
